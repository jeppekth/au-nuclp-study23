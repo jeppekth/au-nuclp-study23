{
 "cells": [
  {
   "cell_type": "markdown",
   "id": "cb1cc7ed",
   "metadata": {},
   "source": [
    "# Al Br Neutron Flux"
   ]
  },
  {
   "cell_type": "code",
   "execution_count": 71,
   "id": "537678e9",
   "metadata": {},
   "outputs": [],
   "source": [
    "import openmc\n",
    "import matplotlib.pyplot as plt\n",
    "import numpy as np"
   ]
  },
  {
   "cell_type": "markdown",
   "id": "a18baba8",
   "metadata": {},
   "source": [
    "## Geometry\n",
    "\n",
    "First we define the geometry of the setup. We just use one large uniform sphere."
   ]
  },
  {
   "cell_type": "code",
   "execution_count": 72,
   "id": "25eeeb3f",
   "metadata": {},
   "outputs": [],
   "source": [
    "R=5\n",
    "exp = openmc.Sphere(r=R,boundary_type='vacuum') #Larger sphere to have material region"
   ]
  },
  {
   "cell_type": "markdown",
   "id": "ce9db790",
   "metadata": {},
   "source": [
    "## Materials\n",
    "\n",
    "Next we define the materials we are looking at. Al and Br:"
   ]
  },
  {
   "cell_type": "code",
   "execution_count": 73,
   "id": "776a244f",
   "metadata": {},
   "outputs": [],
   "source": [
    "# Create the material (Aluminum)\n",
    "al = openmc.Material()\n",
    "al.add_element('aluminum',1.0)"
   ]
  },
  {
   "cell_type": "code",
   "execution_count": 74,
   "id": "ff498baa",
   "metadata": {},
   "outputs": [],
   "source": [
    "# Create the material (Aluminum)\n",
    "br = openmc.Material()\n",
    "br.add_element('Br',1.0)"
   ]
  },
  {
   "cell_type": "code",
   "execution_count": 75,
   "id": "82020b69",
   "metadata": {},
   "outputs": [],
   "source": [
    "# Add our material to the material list\n",
    "mats = openmc.Materials([al,br])\n",
    "mats.export_to_xml()"
   ]
  },
  {
   "cell_type": "markdown",
   "id": "95f74add",
   "metadata": {},
   "source": [
    "We start with assigning the region as Al then do the simulatoin and then we later change the material to Br."
   ]
  },
  {
   "cell_type": "code",
   "execution_count": 76,
   "id": "369f755a",
   "metadata": {},
   "outputs": [],
   "source": [
    "cell = openmc.Cell()\n",
    "cell.region = -exp\n",
    "cell.fill = al"
   ]
  },
  {
   "cell_type": "code",
   "execution_count": 77,
   "id": "1b177dc3",
   "metadata": {},
   "outputs": [],
   "source": [
    "uni = openmc.Universe()\n",
    "uni.add_cell(cell)"
   ]
  },
  {
   "cell_type": "code",
   "execution_count": 78,
   "id": "949fd188",
   "metadata": {},
   "outputs": [],
   "source": [
    "#Export the geometry\n",
    "geometry = openmc.Geometry(uni)\n",
    "geometry.export_to_xml()"
   ]
  },
  {
   "cell_type": "markdown",
   "id": "70fb3b31",
   "metadata": {},
   "source": [
    "## Source\n",
    "\n",
    "We now define a uniform source straight through our sphere."
   ]
  },
  {
   "cell_type": "code",
   "execution_count": 79,
   "id": "04f07abb",
   "metadata": {},
   "outputs": [],
   "source": [
    "source = openmc.Source()\n",
    "source.space = openmc.stats.Box((-R, 0, 0), (R, 0, 0))\n",
    "source.angle = openmc.stats.Isotropic()\n",
    "source.energy = openmc.stats.Discrete([10.0], [1.0])"
   ]
  },
  {
   "cell_type": "code",
   "execution_count": 80,
   "id": "14e2604c",
   "metadata": {},
   "outputs": [],
   "source": [
    "settings = openmc.Settings()\n",
    "settings.source = source\n",
    "settings.batches = 100\n",
    "settings.particles = 10_00\n",
    "settings.run_mode = 'fixed source'\n",
    "settings.export_to_xml()"
   ]
  },
  {
   "cell_type": "markdown",
   "id": "fe52b6ed",
   "metadata": {},
   "source": [
    "## Tally\n",
    "\n",
    "We define the mesh wich we use to tally up the flux in the simulation."
   ]
  },
  {
   "cell_type": "code",
   "execution_count": 81,
   "id": "bf97b98b",
   "metadata": {},
   "outputs": [],
   "source": [
    "mesh = openmc.RegularMesh()\n",
    "mesh.dimension = [200, 200]\n",
    "mesh.lower_left = [-R, -R]\n",
    "mesh.upper_right = [R, R]\n",
    "xmin=mesh.lower_left[0]\n",
    "xmax=mesh.upper_right[0]\n",
    "ymin=mesh.lower_left[1]\n",
    "ymax=mesh.upper_right[1]\n",
    "N=mesh.dimension[0]\n",
    "xs,ys = np.meshgrid(np.linspace(xmin,xmax,N),np.linspace(ymin,ymax,N))\n",
    "# Create mesh filter for tally\n",
    "mesh_filter = openmc.MeshFilter(mesh)"
   ]
  },
  {
   "cell_type": "code",
   "execution_count": 82,
   "id": "300e24fc",
   "metadata": {},
   "outputs": [],
   "source": [
    "tal = openmc.Tally()\n",
    "tal.scores = ['flux']\n",
    "tal.filters = [mesh_filter]\n",
    "tallies = openmc.Tallies([tal])\n",
    "tallies.export_to_xml()"
   ]
  },
  {
   "cell_type": "markdown",
   "id": "95db6f0e",
   "metadata": {},
   "source": [
    "## Run Simulaiton"
   ]
  },
  {
   "cell_type": "code",
   "execution_count": 83,
   "id": "cbfe03c3",
   "metadata": {},
   "outputs": [
    {
     "name": "stdout",
     "output_type": "stream",
     "text": [
      "                                %%%%%%%%%%%%%%%\n",
      "                           %%%%%%%%%%%%%%%%%%%%%%%%\n",
      "                        %%%%%%%%%%%%%%%%%%%%%%%%%%%%%%\n",
      "                      %%%%%%%%%%%%%%%%%%%%%%%%%%%%%%%%%%\n",
      "                    %%%%%%%%%%%%%%%%%%%%%%%%%%%%%%%%%%%%%%\n",
      "                   %%%%%%%%%%%%%%%%%%%%%%%%%%%%%%%%%%%%%%%%\n",
      "                                    %%%%%%%%%%%%%%%%%%%%%%%%\n",
      "                                     %%%%%%%%%%%%%%%%%%%%%%%%\n",
      "                 ###############      %%%%%%%%%%%%%%%%%%%%%%%%\n",
      "                ##################     %%%%%%%%%%%%%%%%%%%%%%%\n",
      "                ###################     %%%%%%%%%%%%%%%%%%%%%%%\n",
      "                ####################     %%%%%%%%%%%%%%%%%%%%%%\n",
      "                #####################     %%%%%%%%%%%%%%%%%%%%%\n",
      "                ######################     %%%%%%%%%%%%%%%%%%%%\n",
      "                #######################     %%%%%%%%%%%%%%%%%%\n",
      "                 #######################     %%%%%%%%%%%%%%%%%\n",
      "                 ######################     %%%%%%%%%%%%%%%%%\n",
      "                  ####################     %%%%%%%%%%%%%%%%%\n",
      "                    #################     %%%%%%%%%%%%%%%%%\n",
      "                     ###############     %%%%%%%%%%%%%%%%\n",
      "                       ############     %%%%%%%%%%%%%%%\n",
      "                          ########     %%%%%%%%%%%%%%\n",
      "                                      %%%%%%%%%%%\n",
      "\n",
      "                 | The OpenMC Monte Carlo Code\n",
      "       Copyright | 2011-2022 MIT, UChicago Argonne LLC, and contributors\n",
      "         License | https://docs.openmc.org/en/latest/license.html\n",
      "         Version | 0.13.2\n",
      "        Git SHA1 | 030f73a8690ed19e91806e46c8caf338d252e74a\n",
      "       Date/Time | 2023-03-10 13:33:05\n",
      "   MPI Processes | 1\n",
      "  OpenMP Threads | 8\n",
      "\n",
      " Reading settings XML file...\n",
      " Reading cross sections XML file...\n",
      " Reading materials XML file...\n",
      " Reading geometry XML file...\n",
      " Reading Al27 from /endfb-vii.1-hdf5/neutron/Al27.h5\n",
      " Reading Br79 from /endfb-vii.1-hdf5/neutron/Br79.h5\n",
      " Reading Br81 from /endfb-vii.1-hdf5/neutron/Br81.h5\n",
      " Minimum neutron data temperature: 250 K\n",
      " Maximum neutron data temperature: 2500 K\n",
      " Reading tallies XML file...\n",
      " Preparing distributed cell instances...\n",
      " Reading plot XML file...\n",
      " Writing summary.h5 file...\n",
      " Maximum neutron transport energy: 20000000 eV for Br79\n",
      "\n",
      " ===============>     FIXED SOURCE TRANSPORT SIMULATION     <===============\n",
      "\n",
      " Simulating batch 1\n",
      " Simulating batch 2\n",
      " Simulating batch 3\n",
      " Simulating batch 4\n",
      " Simulating batch 5\n",
      " Simulating batch 6\n",
      " Simulating batch 7\n",
      " Simulating batch 8\n",
      " Simulating batch 9\n",
      " Simulating batch 10\n",
      " Simulating batch 11\n",
      " Simulating batch 12\n",
      " Simulating batch 13\n",
      " Simulating batch 14\n",
      " Simulating batch 15\n",
      " Simulating batch 16\n",
      " Simulating batch 17\n",
      " Simulating batch 18\n",
      " Simulating batch 19\n",
      " Simulating batch 20\n",
      " Simulating batch 21\n",
      " Simulating batch 22\n",
      " Simulating batch 23\n",
      " Simulating batch 24\n",
      " Simulating batch 25\n",
      " Simulating batch 26\n",
      " Simulating batch 27\n",
      " Simulating batch 28\n",
      " Simulating batch 29\n",
      " Simulating batch 30\n",
      " Simulating batch 31\n",
      " Simulating batch 32\n",
      " Simulating batch 33\n",
      " Simulating batch 34\n",
      " Simulating batch 35\n",
      " Simulating batch 36\n",
      " Simulating batch 37\n",
      " Simulating batch 38\n",
      " Simulating batch 39\n",
      " Simulating batch 40\n",
      " Simulating batch 41\n",
      " Simulating batch 42\n",
      " Simulating batch 43\n",
      " Simulating batch 44\n",
      " Simulating batch 45\n",
      " Simulating batch 46\n",
      " Simulating batch 47\n",
      " Simulating batch 48\n",
      " Simulating batch 49\n",
      " Simulating batch 50\n",
      " Simulating batch 51\n",
      " Simulating batch 52\n",
      " Simulating batch 53\n",
      " Simulating batch 54\n",
      " Simulating batch 55\n",
      " Simulating batch 56\n",
      " Simulating batch 57\n",
      " Simulating batch 58\n",
      " Simulating batch 59\n",
      " Simulating batch 60\n",
      " Simulating batch 61\n",
      " Simulating batch 62\n",
      " Simulating batch 63\n",
      " Simulating batch 64\n",
      " Simulating batch 65\n",
      " Simulating batch 66\n",
      " Simulating batch 67\n",
      " Simulating batch 68\n",
      " Simulating batch 69\n",
      " Simulating batch 70\n",
      " Simulating batch 71\n",
      " Simulating batch 72\n",
      " Simulating batch 73\n",
      " Simulating batch 74\n",
      " Simulating batch 75\n",
      " Simulating batch 76\n",
      " Simulating batch 77\n",
      " Simulating batch 78\n",
      " Simulating batch 79\n",
      " Simulating batch 80\n",
      " Simulating batch 81\n",
      " Simulating batch 82\n",
      " Simulating batch 83\n",
      " Simulating batch 84\n",
      " Simulating batch 85\n",
      " Simulating batch 86\n",
      " Simulating batch 87\n",
      " Simulating batch 88\n",
      " Simulating batch 89\n",
      " Simulating batch 90\n",
      " Simulating batch 91\n",
      " Simulating batch 92\n",
      " Simulating batch 93\n",
      " Simulating batch 94\n",
      " Simulating batch 95\n",
      " Simulating batch 96\n",
      " Simulating batch 97\n",
      " Simulating batch 98\n",
      " Simulating batch 99\n",
      " Simulating batch 100\n",
      " Creating state point statepoint.100.h5...\n",
      "\n",
      " =======================>     TIMING STATISTICS     <=======================\n",
      "\n",
      " Total time for initialization     = 2.7911e-01 seconds\n",
      "   Reading cross sections          = 2.4946e-01 seconds\n",
      " Total time in simulation          = 7.9567e-01 seconds\n",
      "   Time in transport only          = 7.4154e-01 seconds\n",
      "   Time in active batches          = 7.9567e-01 seconds\n",
      "   Time accumulating tallies       = 4.1300e-02 seconds\n",
      "   Time writing statepoints        = 5.4503e-03 seconds\n",
      " Total time for finalization       = 6.3795e-02 seconds\n",
      " Total time elapsed                = 1.1453e+00 seconds\n",
      " Calculation Rate (active)         = 125681 particles/second\n",
      "\n",
      " ============================>     RESULTS     <============================\n",
      "\n",
      " Leakage Fraction            = 0.74158 +/- 0.00155\n",
      "\n"
     ]
    }
   ],
   "source": [
    "!rm -rf summary.h5\n",
    "!rm -rf statepoint.100.h5\n",
    "openmc.run()"
   ]
  },
  {
   "cell_type": "markdown",
   "id": "ee657057",
   "metadata": {},
   "source": [
    "Save the results to `alflux`"
   ]
  },
  {
   "cell_type": "code",
   "execution_count": 84,
   "id": "ca860dea",
   "metadata": {},
   "outputs": [],
   "source": [
    "sp = openmc.StatePoint('statepoint.100.h5')\n",
    "tally = sp.get_tally(scores=['flux'])\n",
    "alflux = tally.get_slice(scores=['flux'])\n",
    "alflux.mean.shape = (200,200)"
   ]
  },
  {
   "cell_type": "markdown",
   "id": "99c486b9",
   "metadata": {},
   "source": [
    "We now thange the material of the cell to br and rerun the simulation"
   ]
  },
  {
   "cell_type": "code",
   "execution_count": 85,
   "id": "44567d65",
   "metadata": {},
   "outputs": [],
   "source": [
    "cell.fill = br"
   ]
  },
  {
   "cell_type": "code",
   "execution_count": 86,
   "id": "0b83e915",
   "metadata": {},
   "outputs": [],
   "source": [
    "uni = openmc.Universe()\n",
    "uni.add_cell(cell)"
   ]
  },
  {
   "cell_type": "code",
   "execution_count": 87,
   "id": "7b7e986e",
   "metadata": {},
   "outputs": [],
   "source": [
    "#Export the geometry\n",
    "geometry = openmc.Geometry(uni)\n",
    "geometry.export_to_xml()"
   ]
  },
  {
   "cell_type": "code",
   "execution_count": 88,
   "id": "e87e3c3f",
   "metadata": {},
   "outputs": [
    {
     "name": "stdout",
     "output_type": "stream",
     "text": [
      "                                %%%%%%%%%%%%%%%\n",
      "                           %%%%%%%%%%%%%%%%%%%%%%%%\n",
      "                        %%%%%%%%%%%%%%%%%%%%%%%%%%%%%%\n",
      "                      %%%%%%%%%%%%%%%%%%%%%%%%%%%%%%%%%%\n",
      "                    %%%%%%%%%%%%%%%%%%%%%%%%%%%%%%%%%%%%%%\n",
      "                   %%%%%%%%%%%%%%%%%%%%%%%%%%%%%%%%%%%%%%%%\n",
      "                                    %%%%%%%%%%%%%%%%%%%%%%%%\n",
      "                                     %%%%%%%%%%%%%%%%%%%%%%%%\n",
      "                 ###############      %%%%%%%%%%%%%%%%%%%%%%%%\n",
      "                ##################     %%%%%%%%%%%%%%%%%%%%%%%\n",
      "                ###################     %%%%%%%%%%%%%%%%%%%%%%%\n",
      "                ####################     %%%%%%%%%%%%%%%%%%%%%%\n",
      "                #####################     %%%%%%%%%%%%%%%%%%%%%\n",
      "                ######################     %%%%%%%%%%%%%%%%%%%%\n",
      "                #######################     %%%%%%%%%%%%%%%%%%\n",
      "                 #######################     %%%%%%%%%%%%%%%%%\n",
      "                 ######################     %%%%%%%%%%%%%%%%%\n",
      "                  ####################     %%%%%%%%%%%%%%%%%\n",
      "                    #################     %%%%%%%%%%%%%%%%%\n",
      "                     ###############     %%%%%%%%%%%%%%%%\n",
      "                       ############     %%%%%%%%%%%%%%%\n",
      "                          ########     %%%%%%%%%%%%%%\n",
      "                                      %%%%%%%%%%%\n",
      "\n",
      "                 | The OpenMC Monte Carlo Code\n",
      "       Copyright | 2011-2022 MIT, UChicago Argonne LLC, and contributors\n",
      "         License | https://docs.openmc.org/en/latest/license.html\n",
      "         Version | 0.13.2\n",
      "        Git SHA1 | 030f73a8690ed19e91806e46c8caf338d252e74a\n",
      "       Date/Time | 2023-03-10 13:33:07\n",
      "   MPI Processes | 1\n",
      "  OpenMP Threads | 8\n",
      "\n",
      " Reading settings XML file...\n",
      " Reading cross sections XML file...\n",
      " Reading materials XML file...\n",
      " Reading geometry XML file...\n",
      " Reading Al27 from /endfb-vii.1-hdf5/neutron/Al27.h5\n",
      " Reading Br79 from /endfb-vii.1-hdf5/neutron/Br79.h5\n",
      " Reading Br81 from /endfb-vii.1-hdf5/neutron/Br81.h5\n",
      " Minimum neutron data temperature: 250 K\n",
      " Maximum neutron data temperature: 2500 K\n",
      " Reading tallies XML file...\n",
      " Preparing distributed cell instances...\n",
      " Reading plot XML file...\n",
      " Writing summary.h5 file...\n",
      " Maximum neutron transport energy: 20000000 eV for Br79\n",
      "\n",
      " ===============>     FIXED SOURCE TRANSPORT SIMULATION     <===============\n",
      "\n",
      " Simulating batch 1\n",
      " Simulating batch 2\n",
      " Simulating batch 3\n",
      " Simulating batch 4\n",
      " Simulating batch 5\n",
      " Simulating batch 6\n",
      " Simulating batch 7\n",
      " Simulating batch 8\n",
      " Simulating batch 9\n",
      " Simulating batch 10\n",
      " Simulating batch 11\n",
      " Simulating batch 12\n",
      " Simulating batch 13\n",
      " Simulating batch 14\n",
      " Simulating batch 15\n",
      " Simulating batch 16\n",
      " Simulating batch 17\n",
      " Simulating batch 18\n",
      " Simulating batch 19\n",
      " Simulating batch 20\n",
      " Simulating batch 21\n",
      " Simulating batch 22\n",
      " Simulating batch 23\n",
      " Simulating batch 24\n",
      " Simulating batch 25\n",
      " Simulating batch 26\n",
      " Simulating batch 27\n",
      " Simulating batch 28\n",
      " Simulating batch 29\n",
      " Simulating batch 30\n",
      " Simulating batch 31\n",
      " Simulating batch 32\n",
      " Simulating batch 33\n",
      " Simulating batch 34\n",
      " Simulating batch 35\n",
      " Simulating batch 36\n",
      " Simulating batch 37\n",
      " Simulating batch 38\n",
      " Simulating batch 39\n",
      " Simulating batch 40\n",
      " Simulating batch 41\n",
      " Simulating batch 42\n",
      " Simulating batch 43\n",
      " Simulating batch 44\n",
      " Simulating batch 45\n",
      " Simulating batch 46\n",
      " Simulating batch 47\n",
      " Simulating batch 48\n",
      " Simulating batch 49\n",
      " Simulating batch 50\n",
      " Simulating batch 51\n",
      " Simulating batch 52\n",
      " Simulating batch 53\n",
      " Simulating batch 54\n",
      " Simulating batch 55\n",
      " Simulating batch 56\n",
      " Simulating batch 57\n",
      " Simulating batch 58\n",
      " Simulating batch 59\n",
      " Simulating batch 60\n",
      " Simulating batch 61\n",
      " Simulating batch 62\n",
      " Simulating batch 63\n",
      " Simulating batch 64\n",
      " Simulating batch 65\n",
      " Simulating batch 66\n",
      " Simulating batch 67\n",
      " Simulating batch 68\n",
      " Simulating batch 69\n",
      " Simulating batch 70\n",
      " Simulating batch 71\n",
      " Simulating batch 72\n",
      " Simulating batch 73\n",
      " Simulating batch 74\n",
      " Simulating batch 75\n",
      " Simulating batch 76\n",
      " Simulating batch 77\n",
      " Simulating batch 78\n",
      " Simulating batch 79\n",
      " Simulating batch 80\n",
      " Simulating batch 81\n",
      " Simulating batch 82\n",
      " Simulating batch 83\n",
      " Simulating batch 84\n",
      " Simulating batch 85\n",
      " Simulating batch 86\n",
      " Simulating batch 87\n",
      " Simulating batch 88\n",
      " Simulating batch 89\n",
      " Simulating batch 90\n",
      " Simulating batch 91\n",
      " Simulating batch 92\n",
      " Simulating batch 93\n",
      " Simulating batch 94\n",
      " Simulating batch 95\n",
      " Simulating batch 96\n",
      " Simulating batch 97\n",
      " Simulating batch 98\n",
      " Simulating batch 99\n",
      " Simulating batch 100\n",
      " Creating state point statepoint.100.h5...\n",
      "\n",
      " =======================>     TIMING STATISTICS     <=======================\n",
      "\n",
      " Total time for initialization     = 3.0847e-01 seconds\n",
      "   Reading cross sections          = 2.8781e-01 seconds\n",
      " Total time in simulation          = 3.3410e-01 seconds\n",
      "   Time in transport only          = 3.1184e-01 seconds\n",
      "   Time in active batches          = 3.3410e-01 seconds\n",
      "   Time accumulating tallies       = 1.0953e-02 seconds\n",
      "   Time writing statepoints        = 5.5198e-03 seconds\n",
      " Total time for finalization       = 5.9383e-02 seconds\n",
      " Total time elapsed                = 7.0522e-01 seconds\n",
      " Calculation Rate (active)         = 299314 particles/second\n",
      "\n",
      " ============================>     RESULTS     <============================\n",
      "\n",
      " Leakage Fraction            = 0.06792 +/- 0.00068\n",
      "\n"
     ]
    }
   ],
   "source": [
    "!rm -rf summary.h5\n",
    "!rm -rf statepoint.100.h5\n",
    "openmc.run()"
   ]
  },
  {
   "cell_type": "markdown",
   "id": "863a4297",
   "metadata": {},
   "source": [
    "Save the results to `brflux`"
   ]
  },
  {
   "cell_type": "code",
   "execution_count": 89,
   "id": "3df6b736",
   "metadata": {},
   "outputs": [],
   "source": [
    "sp = openmc.StatePoint('statepoint.100.h5')\n",
    "tally = sp.get_tally(scores=['flux'])\n",
    "brflux = tally.get_slice(scores=['flux'])\n",
    "brflux.mean.shape = (200,200)"
   ]
  },
  {
   "cell_type": "markdown",
   "id": "0b34626b",
   "metadata": {},
   "source": [
    "## Results"
   ]
  },
  {
   "cell_type": "code",
   "execution_count": 90,
   "id": "1fb3bf59",
   "metadata": {},
   "outputs": [
    {
     "data": {
      "text/plain": [
       "<matplotlib.legend.Legend at 0x7f09a8c51880>"
      ]
     },
     "execution_count": 90,
     "metadata": {},
     "output_type": "execute_result"
    },
    {
     "data": {
      "image/png": "[encoded data removed]",
      "text/plain": [
       "<Figure size 640x480 with 1 Axes>"
      ]
     },
     "metadata": {},
     "output_type": "display_data"
    }
   ],
   "source": [
    "plt.plot(ys[:,100],alflux.mean[:,100],label=\"Al\")\n",
    "plt.plot(ys[:,100],brflux.mean[:,100],label=\"Br\")\n",
    "\n",
    "plt.grid(which='both')\n",
    "plt.xlabel('r [arb]')\n",
    "plt.ylabel(r'$\\phi$ [arb]')\n",
    "plt.legend()"
   ]
  },
  {
   "cell_type": "code",
   "execution_count": 91,
   "id": "778dab1b",
   "metadata": {},
   "outputs": [
    {
     "data": {
      "text/plain": [
       "Text(0.5, 1.0, 'Br')"
      ]
     },
     "execution_count": 91,
     "metadata": {},
     "output_type": "execute_result"
    },
    {
     "data": {
      "image/png": "[encoded data removed]",
      "text/plain": [
       "<Figure size 1000x1000 with 2 Axes>"
      ]
     },
     "metadata": {},
     "output_type": "display_data"
    }
   ],
   "source": [
    "fig, (ax1,ax2) = plt.subplots(1, 2,figsize=(10,10))\n",
    "\n",
    "ax1.contourf(xs,ys,alflux.mean,50)\n",
    "ax1.set_aspect('equal')\n",
    "ax1.set_title(\"Al\")\n",
    "ax2.contourf(xs,ys,brflux.mean,50)\n",
    "ax2.set_aspect('equal')\n",
    "ax2.set_title(\"Br\")"
   ]
  }
 ],
 "metadata": {
  "kernelspec": {
   "display_name": "openmc",
   "language": "python",
   "name": "openmc"
  },
  "language_info": {
   "codemirror_mode": {
    "name": "ipython",
    "version": 3
   },
   "file_extension": ".py",
   "mimetype": "text/x-python",
   "name": "python",
   "nbconvert_exporter": "python",
   "pygments_lexer": "ipython3",
   "version": "3.9.2"
  }
 },
 "nbformat": 4,
 "nbformat_minor": 5
}
