{
 "cells": [
  {
   "cell_type": "code",
   "execution_count": 4,
   "id": "537678e9",
   "metadata": {},
   "outputs": [],
   "source": [
    "import openmc\n",
    "import matplotlib.pyplot as plt\n",
    "import numpy as np"
   ]
  },
  {
   "cell_type": "markdown",
   "id": "1bb5119b",
   "metadata": {},
   "source": [
    "# Cavity Exercise Simulation"
   ]
  },
  {
   "cell_type": "markdown",
   "id": "c12735a5",
   "metadata": {},
   "source": [
    "In this exercise we are loking at a vacuum cavity withing a material. We want to calculate/simulate\n",
    "the neutorn flux as a funtion of the distance from the center of the cavity.\n",
    "\n",
    "In this simulation we will:\n",
    "1. Create a sphere fill it with nothing\n",
    "2. Create a bigger sphere and fill it with a random yet suitable material(aluminum)\n",
    "3. Add a source in the center\n",
    "4. Simulate the case"
   ]
  },
  {
   "cell_type": "markdown",
   "id": "ee91f188",
   "metadata": {},
   "source": [
    "## Geometries"
   ]
  },
  {
   "cell_type": "code",
   "execution_count": 5,
   "id": "ef803bf9",
   "metadata": {},
   "outputs": [],
   "source": [
    "R=10 #Radius of cavity"
   ]
  },
  {
   "cell_type": "code",
   "execution_count": 6,
   "id": "25eeeb3f",
   "metadata": {},
   "outputs": [],
   "source": [
    "cavity = openmc.Sphere(r=R) # Create the spherical cavity\n",
    "exp = openmc.Sphere(r=20,boundary_type='vacuum') #Larger sphere to have material region"
   ]
  },
  {
   "cell_type": "markdown",
   "id": "4371717a",
   "metadata": {},
   "source": [
    "## Materials"
   ]
  },
  {
   "cell_type": "code",
   "execution_count": 7,
   "id": "776a244f",
   "metadata": {},
   "outputs": [],
   "source": [
    "# Create the material (Aluminum)\n",
    "al = openmc.Material()\n",
    "al.add_element('aluminum',1.0)"
   ]
  },
  {
   "cell_type": "code",
   "execution_count": 8,
   "id": "82020b69",
   "metadata": {},
   "outputs": [],
   "source": [
    "# Add our material to the material list\n",
    "mats = openmc.Materials([al])\n",
    "mats.export_to_xml()"
   ]
  },
  {
   "cell_type": "markdown",
   "id": "939a927b",
   "metadata": {},
   "source": [
    "# Cell Regions"
   ]
  },
  {
   "cell_type": "code",
   "execution_count": 9,
   "id": "369f755a",
   "metadata": {},
   "outputs": [],
   "source": [
    "cell = openmc.Cell()\n",
    "cell.region = +cavity & -exp\n",
    "cell.fill = al"
   ]
  },
  {
   "cell_type": "code",
   "execution_count": 10,
   "id": "c1704624",
   "metadata": {},
   "outputs": [],
   "source": [
    "cav = openmc.Cell()\n",
    "cav.region = -cavity"
   ]
  },
  {
   "cell_type": "markdown",
   "id": "668ccdf3",
   "metadata": {},
   "source": [
    "## Universe"
   ]
  },
  {
   "cell_type": "code",
   "execution_count": 11,
   "id": "1b177dc3",
   "metadata": {},
   "outputs": [],
   "source": [
    "uni = openmc.Universe()\n",
    "uni.add_cell(cell)\n",
    "uni.add_cell(cav)"
   ]
  },
  {
   "cell_type": "code",
   "execution_count": 12,
   "id": "c4e7b926",
   "metadata": {},
   "outputs": [
    {
     "data": {
      "text/plain": [
       "<matplotlib.image.AxesImage at 0x7fb2b1a81520>"
      ]
     },
     "execution_count": 12,
     "metadata": {},
     "output_type": "execute_result"
    },
    {
     "data": {
      "image/png": "[encoded data removed]",
      "text/plain": [
       "<Figure size 258.065x259.74 with 1 Axes>"
      ]
     },
     "metadata": {},
     "output_type": "display_data"
    }
   ],
   "source": [
    "uni.plot(width=(30, 30), origin=(0.0, 0.0, 0.0))"
   ]
  },
  {
   "cell_type": "code",
   "execution_count": 13,
   "id": "949fd188",
   "metadata": {},
   "outputs": [],
   "source": [
    "#Export the geometry\n",
    "geometry = openmc.Geometry(uni)\n",
    "geometry.export_to_xml()"
   ]
  },
  {
   "cell_type": "code",
   "execution_count": 14,
   "id": "90a8970e",
   "metadata": {},
   "outputs": [],
   "source": [
    "# Create a point source of neutrons\n",
    "point = openmc.stats.Point((0, 0, 0))\n",
    "source = openmc.Source(space=point,energy=openmc.stats.Uniform(10,10))"
   ]
  },
  {
   "cell_type": "markdown",
   "id": "05401e20",
   "metadata": {},
   "source": [
    "## Simulation Settings"
   ]
  },
  {
   "cell_type": "markdown",
   "id": "6564ea4d",
   "metadata": {},
   "source": [
    "We define the settings for the simulatoins:\n",
    "- 100 batches of 10k particles\n",
    "- fixed source (we are not looking at fusion or anything, just a fixed neutron source)"
   ]
  },
  {
   "cell_type": "code",
   "execution_count": 15,
   "id": "c63f12d0",
   "metadata": {},
   "outputs": [],
   "source": [
    "settings = openmc.Settings()\n",
    "settings.source = source\n",
    "settings.batches = 100\n",
    "settings.particles = 10_000\n",
    "settings.run_mode = 'fixed source'\n",
    "settings.export_to_xml()"
   ]
  },
  {
   "cell_type": "markdown",
   "id": "10cad6b4",
   "metadata": {},
   "source": [
    "Nex we need to define the output we want. That is we define the tallies that openmc should generate for us.\n",
    "\n",
    "We want the flux at different points withing our universe so we create a meshgrid:"
   ]
  },
  {
   "cell_type": "code",
   "execution_count": 16,
   "id": "bf97b98b",
   "metadata": {},
   "outputs": [],
   "source": [
    "mesh = openmc.RegularMesh()\n",
    "mesh.dimension = [200, 200]\n",
    "mesh.lower_left = [-20, -20]\n",
    "mesh.upper_right = [20, 20]\n",
    "xmin=mesh.lower_left[0]\n",
    "xmax=mesh.upper_right[0]\n",
    "ymin=mesh.lower_left[1]\n",
    "ymax=mesh.upper_right[1]\n",
    "N=mesh.dimension[0]\n",
    "xs,ys = np.meshgrid(np.linspace(xmin,xmax,N),np.linspace(ymin,ymax,N))\n",
    "# Create mesh filter for tally\n",
    "mesh_filter = openmc.MeshFilter(mesh)"
   ]
  },
  {
   "cell_type": "markdown",
   "id": "da9d7687",
   "metadata": {},
   "source": [
    "We create the tally object, specify our grid and that we want the flux tally."
   ]
  },
  {
   "cell_type": "code",
   "execution_count": 17,
   "id": "300e24fc",
   "metadata": {},
   "outputs": [],
   "source": [
    "tal = openmc.Tally()\n",
    "tal.scores = ['flux']\n",
    "tal.filters = [mesh_filter]\n",
    "tallies = openmc.Tallies([tal])\n",
    "tallies.export_to_xml()"
   ]
  },
  {
   "cell_type": "markdown",
   "id": "b2ff7a2c",
   "metadata": {},
   "source": [
    "We remove any old simulation result and then run openmc"
   ]
  },
  {
   "cell_type": "code",
   "execution_count": 18,
   "id": "cbfe03c3",
   "metadata": {},
   "outputs": [
    {
     "name": "stdout",
     "output_type": "stream",
     "text": [
      "                                %%%%%%%%%%%%%%%\n",
      "                           %%%%%%%%%%%%%%%%%%%%%%%%\n",
      "                        %%%%%%%%%%%%%%%%%%%%%%%%%%%%%%\n",
      "                      %%%%%%%%%%%%%%%%%%%%%%%%%%%%%%%%%%\n",
      "                    %%%%%%%%%%%%%%%%%%%%%%%%%%%%%%%%%%%%%%\n",
      "                   %%%%%%%%%%%%%%%%%%%%%%%%%%%%%%%%%%%%%%%%\n",
      "                                    %%%%%%%%%%%%%%%%%%%%%%%%\n",
      "                                     %%%%%%%%%%%%%%%%%%%%%%%%\n",
      "                 ###############      %%%%%%%%%%%%%%%%%%%%%%%%\n",
      "                ##################     %%%%%%%%%%%%%%%%%%%%%%%\n",
      "                ###################     %%%%%%%%%%%%%%%%%%%%%%%\n",
      "                ####################     %%%%%%%%%%%%%%%%%%%%%%\n",
      "                #####################     %%%%%%%%%%%%%%%%%%%%%\n",
      "                ######################     %%%%%%%%%%%%%%%%%%%%\n",
      "                #######################     %%%%%%%%%%%%%%%%%%\n",
      "                 #######################     %%%%%%%%%%%%%%%%%\n",
      "                 ######################     %%%%%%%%%%%%%%%%%\n",
      "                  ####################     %%%%%%%%%%%%%%%%%\n",
      "                    #################     %%%%%%%%%%%%%%%%%\n",
      "                     ###############     %%%%%%%%%%%%%%%%\n",
      "                       ############     %%%%%%%%%%%%%%%\n",
      "                          ########     %%%%%%%%%%%%%%\n",
      "                                      %%%%%%%%%%%\n",
      "\n",
      "                 | The OpenMC Monte Carlo Code\n",
      "       Copyright | 2011-2022 MIT, UChicago Argonne LLC, and contributors\n",
      "         License | https://docs.openmc.org/en/latest/license.html\n",
      "         Version | 0.13.2\n",
      "        Git SHA1 | 030f73a8690ed19e91806e46c8caf338d252e74a\n",
      "       Date/Time | 2023-03-08 18:30:18\n",
      "   MPI Processes | 1\n",
      "  OpenMP Threads | 8\n",
      "\n",
      " Reading settings XML file...\n",
      " Reading cross sections XML file...\n",
      " Reading materials XML file...\n",
      " Reading geometry XML file...\n",
      " Reading Al27 from /endfb-vii.1-hdf5/neutron/Al27.h5\n",
      " Minimum neutron data temperature: 294 K\n",
      " Maximum neutron data temperature: 294 K\n",
      " Reading tallies XML file...\n",
      " Preparing distributed cell instances...\n",
      " Reading plot XML file...\n",
      " Writing summary.h5 file...\n",
      " Maximum neutron transport energy: 150000000 eV for Al27\n",
      "\n",
      " ===============>     FIXED SOURCE TRANSPORT SIMULATION     <===============\n",
      "\n",
      " Simulating batch 1\n",
      " Simulating batch 2\n",
      " Simulating batch 3\n",
      " Simulating batch 4\n",
      " Simulating batch 5\n",
      " Simulating batch 6\n",
      " Simulating batch 7\n",
      " Simulating batch 8\n",
      " Simulating batch 9\n",
      " Simulating batch 10\n",
      " Simulating batch 11\n",
      " Simulating batch 12\n",
      " Simulating batch 13\n",
      " Simulating batch 14\n",
      " Simulating batch 15\n",
      " Simulating batch 16\n",
      " Simulating batch 17\n",
      " Simulating batch 18\n",
      " Simulating batch 19\n",
      " Simulating batch 20\n",
      " Simulating batch 21\n",
      " Simulating batch 22\n",
      " Simulating batch 23\n",
      " Simulating batch 24\n",
      " Simulating batch 25\n",
      " Simulating batch 26\n",
      " Simulating batch 27\n",
      " Simulating batch 28\n",
      " Simulating batch 29\n",
      " Simulating batch 30\n",
      " Simulating batch 31\n",
      " Simulating batch 32\n",
      " Simulating batch 33\n",
      " Simulating batch 34\n",
      " Simulating batch 35\n",
      " Simulating batch 36\n",
      " Simulating batch 37\n",
      " Simulating batch 38\n",
      " Simulating batch 39\n",
      " Simulating batch 40\n",
      " Simulating batch 41\n",
      " Simulating batch 42\n",
      " Simulating batch 43\n",
      " Simulating batch 44\n",
      " Simulating batch 45\n",
      " Simulating batch 46\n",
      " Simulating batch 47\n",
      " Simulating batch 48\n",
      " Simulating batch 49\n",
      " Simulating batch 50\n",
      " Simulating batch 51\n",
      " Simulating batch 52\n",
      " Simulating batch 53\n",
      " Simulating batch 54\n",
      " Simulating batch 55\n",
      " Simulating batch 56\n",
      " Simulating batch 57\n",
      " Simulating batch 58\n",
      " Simulating batch 59\n",
      " Simulating batch 60\n",
      " Simulating batch 61\n",
      " Simulating batch 62\n",
      " Simulating batch 63\n",
      " Simulating batch 64\n",
      " Simulating batch 65\n",
      " Simulating batch 66\n",
      " Simulating batch 67\n",
      " Simulating batch 68\n",
      " Simulating batch 69\n",
      " Simulating batch 70\n",
      " Simulating batch 71\n",
      " Simulating batch 72\n",
      " Simulating batch 73\n",
      " Simulating batch 74\n",
      " Simulating batch 75\n",
      " Simulating batch 76\n",
      " Simulating batch 77\n",
      " Simulating batch 78\n",
      " Simulating batch 79\n",
      " Simulating batch 80\n",
      " Simulating batch 81\n",
      " Simulating batch 82\n",
      " Simulating batch 83\n",
      " Simulating batch 84\n",
      " Simulating batch 85\n",
      " Simulating batch 86\n",
      " Simulating batch 87\n",
      " Simulating batch 88\n",
      " Simulating batch 89\n",
      " Simulating batch 90\n",
      " Simulating batch 91\n",
      " Simulating batch 92\n",
      " Simulating batch 93\n",
      " Simulating batch 94\n",
      " Simulating batch 95\n",
      " Simulating batch 96\n",
      " Simulating batch 97\n",
      " Simulating batch 98\n",
      " Simulating batch 99\n",
      " Simulating batch 100\n",
      " Creating state point statepoint.100.h5...\n",
      "\n",
      " =======================>     TIMING STATISTICS     <=======================\n",
      "\n",
      " Total time for initialization     = 1.6125e-01 seconds\n",
      "   Reading cross sections          = 1.4647e-01 seconds\n",
      " Total time in simulation          = 1.3664e+01 seconds\n",
      "   Time in transport only          = 1.3580e+01 seconds\n",
      "   Time in active batches          = 1.3664e+01 seconds\n",
      "   Time accumulating tallies       = 5.1680e-02 seconds\n",
      "   Time writing statepoints        = 4.2118e-03 seconds\n",
      " Total time for finalization       = 5.8986e-02 seconds\n",
      " Total time elapsed                = 1.3886e+01 seconds\n",
      " Calculation Rate (active)         = 73182.5 particles/second\n",
      "\n",
      " ============================>     RESULTS     <============================\n",
      "\n",
      " Leakage Fraction            = 0.03887 +/- 0.00018\n",
      "\n"
     ]
    }
   ],
   "source": [
    "!rm -rf summary.h5\n",
    "!rm -rf statepoint.100.h5\n",
    "openmc.run()"
   ]
  },
  {
   "cell_type": "markdown",
   "id": "9690f92a",
   "metadata": {},
   "source": [
    "## Results"
   ]
  },
  {
   "cell_type": "markdown",
   "id": "4f43ce96",
   "metadata": {},
   "source": [
    "We are now ready to look at the results.\n",
    "\n",
    "We load in the result file pick and pick out our flux tallies. We then reshape them to match the\n",
    "grid we specified earlier:"
   ]
  },
  {
   "cell_type": "code",
   "execution_count": 19,
   "id": "ca860dea",
   "metadata": {},
   "outputs": [],
   "source": [
    "sp = openmc.StatePoint('statepoint.100.h5')\n",
    "tally = sp.get_tally(scores=['flux'])\n",
    "flux = tally.get_slice(scores=['flux'])\n",
    "flux.mean.shape = (200,200)"
   ]
  },
  {
   "cell_type": "markdown",
   "id": "4a52acf3",
   "metadata": {},
   "source": [
    "We then define the theoretical flux function from the solution to 5.8:"
   ]
  },
  {
   "cell_type": "code",
   "execution_count": 20,
   "id": "e172b26d",
   "metadata": {},
   "outputs": [],
   "source": [
    "def theory(x):\n",
    "    #Disclaimer: Constants derived using sliderule\n",
    "    A=0.035\n",
    "    k=0.36\n",
    "    phi = lambda r: A*(1/(r)) if r<R else A*(1/r)*np.exp(-k*(r-R))\n",
    "    return list(map(phi,x))"
   ]
  },
  {
   "cell_type": "markdown",
   "id": "0adbdd73",
   "metadata": {},
   "source": [
    "Finally we plot the results:"
   ]
  },
  {
   "cell_type": "code",
   "execution_count": 21,
   "id": "ed24b87c",
   "metadata": {
    "scrolled": true
   },
   "outputs": [
    {
     "data": {
      "image/png": "[encoded data removed]",
      "text/plain": [
       "<Figure size 640x480 with 1 Axes>"
      ]
     },
     "metadata": {},
     "output_type": "display_data"
    }
   ],
   "source": [
    "L=110 #Plitting limit\n",
    "plt.plot(xs[100,L:],flux.mean[100,L:])\n",
    "plt.plot(xs[100,L:],theory(xs[100,L:]))\n",
    "plt.axvline(x=R,c='r')\n",
    "plt.grid(which='both')"
   ]
  },
  {
   "cell_type": "markdown",
   "id": "2f0feebc",
   "metadata": {},
   "source": [
    "And a filled contour of the simulatoin:"
   ]
  },
  {
   "cell_type": "code",
   "execution_count": 22,
   "id": "b6bd268c",
   "metadata": {},
   "outputs": [
    {
     "data": {
      "text/plain": [
       "(-20.0, 20.0, -20.0, 20.0)"
      ]
     },
     "execution_count": 22,
     "metadata": {},
     "output_type": "execute_result"
    },
    {
     "data": {
      "image/png": "[encoded data removed]",
      "text/plain": [
       "<Figure size 640x480 with 1 Axes>"
      ]
     },
     "metadata": {},
     "output_type": "display_data"
    }
   ],
   "source": [
    "plt.contourf(xs,ys,flux.mean,500)\n",
    "plt.axis('equal')"
   ]
  }
 ],
 "metadata": {
  "kernelspec": {
   "display_name": "openmc",
   "language": "python",
   "name": "openmc"
  },
  "language_info": {
   "codemirror_mode": {
    "name": "ipython",
    "version": 3
   },
   "file_extension": ".py",
   "mimetype": "text/x-python",
   "name": "python",
   "nbconvert_exporter": "python",
   "pygments_lexer": "ipython3",
   "version": "3.9.2"
  }
 },
 "nbformat": 4,
 "nbformat_minor": 5
}
